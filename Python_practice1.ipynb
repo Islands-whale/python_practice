{
 "nbformat": 4,
 "nbformat_minor": 2,
 "metadata": {
  "language_info": {
   "name": "python",
   "codemirror_mode": {
    "name": "ipython",
    "version": 3
   },
   "version": "3.7.6-final"
  },
  "orig_nbformat": 2,
  "file_extension": ".py",
  "mimetype": "text/x-python",
  "name": "python",
  "npconvert_exporter": "python",
  "pygments_lexer": "ipython3",
  "version": 3,
  "kernelspec": {
   "name": "python3",
   "display_name": "Python 3"
  }
 },
 "cells": [
  {
   "cell_type": "code",
   "execution_count": 1,
   "metadata": {},
   "outputs": [
    {
     "output_type": "stream",
     "name": "stdout",
     "text": "The variables before swapping are: 23 45\nThe variables after swapping are: 45 23\n"
    }
   ],
   "source": [
    "# Filename: Python_practice1.ipynb\n",
    "#\n",
    "# Summary: 交换两个变量值 / 摄氏温度转为华氏温度 / 求数字中各位数之和 / 判断数字为质数or合数 / 生成随机数 / 删除列表重复项\n",
    "#\n",
    "# Date: 2020/4/1\n",
    "#\n",
    "# author by: 崇森(chongsen_zhao@163.com)\n",
    "\n",
    "\n",
    "# @FullName:  swap\n",
    "#\n",
    "# @Brief:     交换变量值\n",
    "#\n",
    "# @Parameter: x, y\n",
    "#\n",
    "# @Return:    y, x\n",
    "def swap(x, y):\n",
    "    return y, x\n",
    "\n",
    "\n",
    "var_one = input(\"Please input the first variable:\")\n",
    "var_two = input(\"Please input the second variable:\")\n",
    "print(\"The variables before swapping are:\", var_one, var_two)\n",
    "\n",
    "var_one, var_two = swap(var_one, var_two)\n",
    "# var_one, var_two = var_two, var_one\n",
    "print(\"The variables after swapping are:\", var_one, var_two)\n",
    ""
   ]
  },
  {
   "cell_type": "code",
   "execution_count": 2,
   "metadata": {},
   "outputs": [
    {
     "output_type": "stream",
     "name": "stdout",
     "text": "50 converts to Fahrenheit is 122.0\n"
    }
   ],
   "source": [
    "# @FullName:  cel_to_fah\n",
    "#\n",
    "# @Brief:     摄氏度转华氏度\n",
    "#\n",
    "# @Parameter: 摄氏度\n",
    "#\n",
    "# @Return:    华氏度\n",
    "def cel2fah(cel):\n",
    "    return cel * 1.8 + 32\n",
    "\n",
    "\n",
    "celsius = eval(input(\"Please input celsius:\"))\n",
    "fahrenheit = cel2fah(celsius)\n",
    "print(celsius, \"converts to Fahrenheit is\", fahrenheit)\n",
    ""
   ]
  },
  {
   "cell_type": "code",
   "execution_count": 11,
   "metadata": {},
   "outputs": [
    {
     "output_type": "stream",
     "name": "stdout",
     "text": "23.456: The sum of the individual digits is 20\n"
    }
   ],
   "source": [
    "# @FullName:  digit_sum\n",
    "#\n",
    "# @Brief:     计算正整数各个位数之和\n",
    "#\n",
    "# @Parameter: 正整数\n",
    "#\n",
    "# @Return:    各位数之和\n",
    "def digit_sum(num):\n",
    "    if num >= 10:\n",
    "        remainder = num % 10\n",
    "        rest = int(num / 10)\n",
    "        sum = remainder + digit_sum(rest)\n",
    "    else:\n",
    "        sum = num\n",
    "    return sum\n",
    "\n",
    "\n",
    "# @FullName:  num_split\n",
    "#\n",
    "# @Brief:     将实数依据小数点拆分为左右两个正整数\n",
    "#\n",
    "# @Parameter: 数字字符串\n",
    "#\n",
    "# @Return:    拆分后的两个正整数\n",
    "\n",
    "\n",
    "def num_split(str_num):\n",
    "    if str_num.count('.') == 1:\n",
    "        left = abs(int(str_num.split('.')[0]))\n",
    "        right = int(str_num.split('.')[1])\n",
    "        return left, right\n",
    "    else:\n",
    "        return abs(int(str_num)), 0\n",
    "\n",
    "\n",
    "number_str = input(\"Please input a number:\")\n",
    "num_left, num_right = num_split(number_str)\n",
    "sum = digit_sum(num_left)\n",
    "sum += digit_sum(num_right)\n",
    "print(\"%s: The sum of the individual digits is %d\" % (number_str, sum))\n"
   ]
  },
  {
   "cell_type": "code",
   "execution_count": 14,
   "metadata": {},
   "outputs": [
    {
     "output_type": "stream",
     "name": "stdout",
     "text": "88 is a composite number\n2 * 44 is 88\n"
    }
   ],
   "source": [
    "MIN_PRIME_COMPOSITE = 2\n",
    "\n",
    "\n",
    "# @FullName:  is_prime\n",
    "#\n",
    "# @Brief:     判断数字为素数or合数\n",
    "#\n",
    "# @Parameter: 实数\n",
    "#\n",
    "# @Return:    0：既不是素数也不是合数 / 1：素数 / else：合数\n",
    "\n",
    "\n",
    "def is_prime(num):\n",
    "    if num < MIN_PRIME_COMPOSITE:\n",
    "        return 0\n",
    "    low_bound = 2\n",
    "    up_bound = int(num / 2 + 1)\n",
    "    for i in range(low_bound, up_bound):\n",
    "        if num % i == 0:\n",
    "            return i\n",
    "    return 1\n",
    "\n",
    "\n",
    "num_str = input(\"Please input a number:\")\n",
    "if num_str.count('.') >= 1:\n",
    "    print(\"%s is neither prime nor composite\" % num_str)\n",
    "else:\n",
    "    number = int(num_str)\n",
    "    val = is_prime(number)\n",
    "    if val == 0:\n",
    "        print(\"%d is neither prime nor composite\" % number)\n",
    "    elif val == 1:\n",
    "        print(\"%d is a prime number\" % number)\n",
    "    else:\n",
    "        print(\"%d is a composite number\" % number)\n",
    "        print(\"%d * %d is %d\" % (val, number / val, number))\n",
    ""
   ]
  },
  {
   "cell_type": "code",
   "execution_count": 13,
   "metadata": {},
   "outputs": [
    {
     "output_type": "stream",
     "name": "stdout",
     "text": "The random number is 6\n"
    }
   ],
   "source": [
    "from random import randint\n",
    "min_num = int(input(\"Please input a min number\"))\n",
    "max_num = int(input(\"Please input a max number\"))\n",
    "if min_num > max_num:\n",
    "    print(\"Input error!\")\n",
    "else:\n",
    "    print(\"The random number is %d\" % randint(min_num, max_num))\n",
    ""
   ]
  },
  {
   "cell_type": "code",
   "execution_count": 6,
   "metadata": {},
   "outputs": [
    {
     "output_type": "stream",
     "name": "stdout",
     "text": "The original list is: ['a', 'b', 'a', 'd', 'd', 'c']\nThe list after removing duplicates is: ['a', 'b', 'd', 'c']\n"
    }
   ],
   "source": [
    "# @FullName:  remove_list_duplicates\n",
    "#\n",
    "# @Brief:     删除列表重复项\n",
    "#\n",
    "# @Parameter: 原列表\n",
    "#\n",
    "# @Return:    删除重复项后的列表\n",
    "\n",
    "\n",
    "def remove_list_duplicates(ori_list):\n",
    "    temp_list = []\n",
    "    for element in ori_list:\n",
    "        if element not in temp_list:\n",
    "            temp_list.append(element)\n",
    "    return temp_list\n",
    "\n",
    "\n",
    "original_list = ['a', 'b', 'a', 'd', 'd', 'c']\n",
    "print(\"The original list is:\", original_list)\n",
    "final_list = remove_list_duplicates(original_list)\n",
    "print(\"The list after removing duplicates is:\", final_list)\n",
    "\n",
    "# *=====End File=====* #\n"
   ]
  }
 ]
}