{
 "nbformat": 4,
 "nbformat_minor": 2,
 "metadata": {
  "language_info": {
   "name": "python",
   "codemirror_mode": {
    "name": "ipython",
    "version": 3
   },
   "version": "3.7.6-final"
  },
  "orig_nbformat": 2,
  "file_extension": ".py",
  "mimetype": "text/x-python",
  "name": "python",
  "npconvert_exporter": "python",
  "pygments_lexer": "ipython3",
  "version": 3,
  "kernelspec": {
   "name": "python3",
   "display_name": "Python 3"
  }
 },
 "cells": [
  {
   "cell_type": "code",
   "execution_count": 85,
   "metadata": {},
   "outputs": [
    {
     "output_type": "stream",
     "name": "stdout",
     "text": "The total count is: 4. The step number is: 2\nThe final position is: 0\n"
    }
   ],
   "source": [
    "# Filename:  python_practice2.ipynb\n",
    "#\n",
    "# Summary:   约瑟夫环\n",
    "#\n",
    "# Date:      2020/4/7\n",
    "#\n",
    "# author by: 崇森(chongsen_zhao@163.com)\n",
    "\n",
    "\n",
    "# @FullName:  cycle_end\n",
    "#\n",
    "# @Brief:     约瑟夫环从 0 开始循环，得出最后留下的序号\n",
    "#\n",
    "# @Parameter: 总数，步进\n",
    "#\n",
    "# @Return:    留下的序号\n",
    "def cycle_end(length, step):\n",
    "    position = 0\n",
    "\n",
    "    low_bound = 2\n",
    "    up_bound = length + 1\n",
    "    for i in range(low_bound, up_bound):\n",
    "        position = (position + step) % i\n",
    "    \n",
    "    return position\n",
    "\n",
    "\n",
    "assert(cycle_end(1, 0) == 0)\n",
    "assert(cycle_end(2, 2) == 0)\n",
    "assert(cycle_end(2, 3) == 1)\n",
    "assert(cycle_end(3, 2) == 2)\n",
    "assert(cycle_end(3, 3) == 1)\n",
    "\n",
    "total_count = int(input(\"Please input the total count\"))\n",
    "step_num = int(input(\"Please input the step number\"))\n",
    "print(\"The total count is: %d. The step number is: %d\" % (total_count, step_num))\n",
    "\n",
    "final_position = cycle_end(total_count, step_num)\n",
    "print(\"The final position is:\", final_position)\n"
   ]
  },
  {
   "cell_type": "code",
   "execution_count": 84,
   "metadata": {},
   "outputs": [
    {
     "output_type": "stream",
     "name": "stdout",
     "text": "The total count is: 4. The step number is: 2\nThe final position is: 1\n"
    }
   ],
   "source": [
    "# @FullName:  cycle_end\n",
    "#\n",
    "# @Brief:     约瑟夫环从 1 开始循环，得出最后留下的序号\n",
    "#\n",
    "# @Parameter: 总数，步进\n",
    "#\n",
    "# @Return:    留下的序号\n",
    "def cycle_end(length, step):\n",
    "    position = 1\n",
    "\n",
    "    low_bound = 2\n",
    "    up_bound = length + 1\n",
    "    for i in range(low_bound, up_bound):\n",
    "        position += step\n",
    "        if position % i == 0:\n",
    "            position = i\n",
    "            continue\n",
    "\n",
    "        position %= i\n",
    "    \n",
    "    return position\n",
    "\n",
    "\n",
    "assert(cycle_end(1, 0) == 1)\n",
    "assert(cycle_end(2, 2) == 1) \n",
    "assert(cycle_end(2, 3) == 2)\n",
    "assert(cycle_end(3, 2) == 3)\n",
    "assert(cycle_end(3, 3) == 2)\n",
    "\n",
    "total_count = int(input(\"Please input the total count\"))\n",
    "step_num = int(input(\"Please input the step number\"))\n",
    "print(\"The total count is: %d. The step number is: %d\" % (total_count, step_num))\n",
    "\n",
    "final_position = cycle_end(total_count, step_num)\n",
    "print(\"The final position is:\", final_position)\n",
    ""
   ]
  },
  {
   "cell_type": "code",
   "execution_count": 83,
   "metadata": {},
   "outputs": [
    {
     "output_type": "stream",
     "name": "stdout",
     "text": "The last remaining element is: 2\n"
    }
   ],
   "source": [
    "# @FullName:  cycle_end\n",
    "#\n",
    "# @Brief:     列表实现约瑟夫环，得出最后留下的元素\n",
    "#\n",
    "# @Parameter: 列表，步进\n",
    "#\n",
    "# @Return:    留下的元素\n",
    "def cycle_end(target, step):\n",
    "    position = 0\n",
    "\n",
    "    while len(target) > 1:\n",
    "        position = (position + step - 1) % len(target)\n",
    "        del target[position]\n",
    "\n",
    "    return target[0]\n",
    "\n",
    "\n",
    "assert(cycle_end([0, 1], 2) == 0)\n",
    "assert(cycle_end([0, 1, 2], 2) == 2)\n",
    "assert(cycle_end([0, 1, 2], 3) == 1)\n",
    "\n",
    "sequence = [2, 4, 3, 5]\n",
    "step_num = 2\n",
    "print(\"The last remaining element is:\", cycle_end(sequence, step_num))\n",
    ""
   ]
  }
 ]
}