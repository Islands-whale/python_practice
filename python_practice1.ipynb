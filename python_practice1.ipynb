{
 "nbformat": 4,
 "nbformat_minor": 2,
 "metadata": {
  "language_info": {
   "name": "python",
   "codemirror_mode": {
    "name": "ipython",
    "version": 3
   },
   "version": "3.7.6-final"
  },
  "orig_nbformat": 2,
  "file_extension": ".py",
  "mimetype": "text/x-python",
  "name": "python",
  "npconvert_exporter": "python",
  "pygments_lexer": "ipython3",
  "version": 3,
  "kernelspec": {
   "name": "python3",
   "display_name": "Python 3"
  }
 },
 "cells": [
  {
   "cell_type": "code",
   "execution_count": 23,
   "metadata": {},
   "outputs": [
    {
     "output_type": "stream",
     "name": "stdout",
     "text": "The variables before swapping are: 12 34\nThe variables after swapping are: 34 12\n"
    }
   ],
   "source": [
    "# Filename: python_practice1.ipynb\n",
    "#\n",
    "# Summary: 交换两个变量值 / 摄氏温度转为华氏温度 / 求数字中各位数之和 / 判断数字为质数or合数 / 生成随机数 / 删除列表重复项\n",
    "#\n",
    "# Date: 2020/4/1\n",
    "#\n",
    "# author by: 崇森(chongsen_zhao@163.com)\n",
    "\n",
    "\n",
    "# @FullName:  swap\n",
    "#\n",
    "# @Brief:     交换变量值\n",
    "#\n",
    "# @Parameter: x, y\n",
    "#\n",
    "# @Return:    y, x\n",
    "def swap(x, y):\n",
    "    return y, x\n",
    "\n",
    "assert(swap('a', 'b') == ('b', 'a'))\n",
    "\n",
    "var_one = input(\"Please input the first variable:\")\n",
    "var_two = input(\"Please input the second variable:\")\n",
    "print(\"The variables before swapping are:\", var_one, var_two)\n",
    "\n",
    "var_one, var_two = swap(var_one, var_two)\n",
    "# var_one, var_two = var_two, var_one\n",
    "print(\"The variables after swapping are:\", var_one, var_two)\n"
   ]
  },
  {
   "cell_type": "code",
   "execution_count": 15,
   "metadata": {},
   "outputs": [
    {
     "output_type": "stream",
     "name": "stdout",
     "text": "100 converts to Fahrenheit is 212.0\n"
    }
   ],
   "source": [
    "# @FullName:  cel2fah\n",
    "#\n",
    "# @Brief:     摄氏度转华氏度\n",
    "#\n",
    "# @Parameter: 摄氏度\n",
    "#\n",
    "# @Return:    华氏度\n",
    "def cel2fah(cel):\n",
    "    return cel * 1.8 + 32\n",
    "\n",
    "\n",
    "assert(cel2fah(0) == 32)\n",
    "assert(cel2fah(100) == 212)\n",
    "\n",
    "celsius = eval(input(\"Please input celsius:\"))\n",
    "if celsius < -273:\n",
    "    print(\"Input Error!\")\n",
    "else:\n",
    "    fahrenheit = cel2fah(celsius)\n",
    "    print(celsius, \"converts to Fahrenheit is\", fahrenheit)\n",
    ""
   ]
  },
  {
   "cell_type": "code",
   "execution_count": 28,
   "metadata": {},
   "outputs": [
    {
     "output_type": "stream",
     "name": "stdout",
     "text": "-12.34: The sum of the individual digits is 10\n"
    }
   ],
   "source": [
    "# @FullName:  sum_digits\n",
    "#\n",
    "# @Brief:     计算正整数各个位数之和\n",
    "#\n",
    "# @Parameter: 正整数\n",
    "#\n",
    "# @Return:    各位数之和\n",
    "def sum_digits(num):\n",
    "    if num >= 10:\n",
    "        remainder = num % 10\n",
    "        rest = int(num / 10)\n",
    "        sum = remainder + sum_digits(rest)\n",
    "    else:\n",
    "        sum = num\n",
    "    return sum\n",
    "\n",
    "\n",
    "assert(sum_digits(1234) == 10)\n",
    "\n",
    "# @FullName:  split_num\n",
    "#\n",
    "# @Brief:     将实数依据小数点拆分为左右两个正整数\n",
    "#\n",
    "# @Parameter: 数字字符串\n",
    "#\n",
    "# @Return:    拆分后的两个正整数\n",
    "def split_num(target):\n",
    "    if target.count('.') == 1:\n",
    "        left = abs(int(target.split('.')[0]))\n",
    "        right = int(target.split('.')[1])\n",
    "        return left, right\n",
    "\n",
    "    else:\n",
    "        return abs(int(target)), 0\n",
    "\n",
    "\n",
    "assert(split_num(\"-23.45\") == (23, 45))\n",
    "\n",
    "num_str = input(\"Please input a number:\")\n",
    "if num_str.count('.') > 1:\n",
    "    print(\"Input Error!\")\n",
    "else:\n",
    "    num_left, num_right = split_num(num_str)\n",
    "    \n",
    "    sum = sum_digits(num_left)\n",
    "    sum += sum_digits(num_right)\n",
    "    print(\"%s: The sum of the individual digits is %d\" % (num_str, sum))\n"
   ]
  },
  {
   "cell_type": "code",
   "execution_count": 31,
   "metadata": {},
   "outputs": [
    {
     "output_type": "stream",
     "name": "stdout",
     "text": "33 is a composite number\n"
    }
   ],
   "source": [
    "NO_PRIME_COMPOSITE = 0\n",
    "PRIME = 1\n",
    "MIN_PRIME_COMPOSITE = 2\n",
    "COMPOSITE = 3\n",
    "\n",
    "\n",
    "# @FullName:  is_prime_composite\n",
    "#\n",
    "# @Brief:     判断数字为素数or合数\n",
    "#\n",
    "# @Parameter: 整数\n",
    "#\n",
    "# @Return:    既不是素数也不是合数 / 素数 / 合数\n",
    "def is_prime_composite(num):\n",
    "    if num < MIN_PRIME_COMPOSITE:\n",
    "        return NO_PRIME_COMPOSITE\n",
    "\n",
    "    low_bound = 2\n",
    "    up_bound = int(num / 2 + 1)\n",
    "    for i in range(low_bound, up_bound):\n",
    "        if num % i == 0:\n",
    "            return COMPOSITE\n",
    "\n",
    "    return PRIME\n",
    "\n",
    "\n",
    "assert(is_prime_composite(1) == NO_PRIME_COMPOSITE)\n",
    "assert(is_prime_composite(2) == PRIME)\n",
    "assert(is_prime_composite(4) == COMPOSITE)\n",
    "\n",
    "num_str = input(\"Please input a number:\")\n",
    "if num_str.count('.') >= 1:\n",
    "    print(\"%s is neither prime nor composite\" % num_str)\n",
    "else:\n",
    "    num_int = int(num_str)\n",
    "    \n",
    "    val = is_prime_composite(num_int)\n",
    "    if val == NO_PRIME_COMPOSITE:\n",
    "        print(\"%d is neither prime nor composite\" % num_int)\n",
    "    elif val == PRIME:\n",
    "        print(\"%d is a prime number\" % num_int)\n",
    "    else:\n",
    "        print(\"%d is a composite number\" % num_int)\n"
   ]
  },
  {
   "cell_type": "code",
   "execution_count": 13,
   "metadata": {},
   "outputs": [
    {
     "output_type": "stream",
     "name": "stdout",
     "text": "The random number is 6\n"
    }
   ],
   "source": [
    "from random import randint\n",
    "min_num = int(input(\"Please input a min number\"))\n",
    "max_num = int(input(\"Please input a max number\"))\n",
    "\n",
    "if min_num > max_num:\n",
    "    print(\"Input error!\")\n",
    "else:\n",
    "    print(\"The random number is %d\" % randint(min_num, max_num))\n"
   ]
  },
  {
   "cell_type": "code",
   "execution_count": 38,
   "metadata": {},
   "outputs": [
    {
     "output_type": "stream",
     "name": "stdout",
     "text": "The original list is: ['a', 'b', 'a', 'd', 'd', 'c']\nThe list after removing duplicates is: ['a', 'b', 'd', 'c']\n"
    }
   ],
   "source": [
    "# @FullName:  rm_dups\n",
    "#\n",
    "# @Brief:     删除列表重复项\n",
    "#\n",
    "# @Parameter: 原列表\n",
    "#\n",
    "# @Return:    删除重复项后的列表\n",
    "def rm_dups(target):\n",
    "    temp_list = []\n",
    "    for element in target:\n",
    "        if element not in temp_list:\n",
    "            temp_list.append(element)\n",
    "    return temp_list\n",
    "\n",
    "\n",
    "assert(rm_dups([1, 2, 1]) == [1, 2])\n",
    "\n",
    "original_list = ['a', 'b', 'a', 'd', 'd', 'c']\n",
    "print(\"The original list is:\", original_list)\n",
    "\n",
    "final_list = rm_dups(original_list)\n",
    "# final_list = list(set(original_list))\n",
    "print(\"The list after removing duplicates is:\", final_list)\n",
    "\n",
    "# *=====End File=====* #\n",
    ""
   ]
  }
 ]
}